{
 "cells": [
  {
   "cell_type": "markdown",
   "id": "13905ca4",
   "metadata": {},
   "source": [
    "# ADAS Sensor Data - EDA (Exploratory Data Analysis)\n",
    "\n",
    "This notebook is part of a project aiming to classify automotive accidents using sensor-like data from a public traffic dataset.\n",
    "\n",
    "We'll start by exploring and understanding the structure of the data.\n",
    "\n",
    "*Goal:* build and explain our first ML model - clearly and cleanly.\n"
   ]
  },
  {
   "cell_type": "code",
   "execution_count": null,
   "id": "060071cd",
   "metadata": {},
   "outputs": [],
   "source": [
    "import pandas as pd\n",
    "import matplotlib.pyplot as plt\n",
    "import os\n",
    "\n",
    "csv_path = r'C:\\Users\\Reply\\Desktop\\ai-automotive-faults\\data\\US_Accidents_March23.csv'\n",
    "\n",
    "if not os.path.exists(csv_path):\n",
    "    print(f\"File not found: {csv_path}\")\n",
    "else:\n",
    "    df = pd.read_csv(csv_path, nrows=1000)\n",
    "    print(\"Shape:\", df.shape)\n",
    "    display(df.head())"
   ]
  }
 ],
 "metadata": {
  "language_info": {
   "name": "python"
  }
 },
 "nbformat": 4,
 "nbformat_minor": 5
}
